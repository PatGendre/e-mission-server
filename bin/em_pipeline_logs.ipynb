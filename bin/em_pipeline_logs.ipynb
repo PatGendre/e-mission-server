{
 "cells": [
  {
   "cell_type": "code",
   "execution_count": 1,
   "metadata": {},
   "outputs": [],
   "source": [
    "import pandas as pd"
   ]
  },
  {
   "cell_type": "code",
   "execution_count": 2,
   "metadata": {},
   "outputs": [],
   "source": [
    "def read_empipelinelogs(file_name=\"intake_global.log\"):\n",
    "    import re\n",
    "    import sys\n",
    "    logfile = open(file_name, \"r\")\n",
    "    stats={}\n",
    "    stages=[]\n",
    "    while True:\n",
    "        line=logfile.readline()\n",
    "        if not line: break\n",
    "        # in the first lines of the log file : \"messages in usercache\" : we don't use it\n",
    "        # the first line for each pipeline stage contains ****** and the uuid\n",
    "        # the second line after contains either the number of messages or the data processed start_ts value\n",
    "        if \"*****\" in line:\n",
    "            uuid=line.split(' ')[2][:-1]\n",
    "            if \"moving to long term\" in line:\n",
    "                line=logfile.readline()\n",
    "                if \"messages in response to query\" not in line:\n",
    "                    print(\"ERREUR : manque le nb de messages après stage 'moving to long term'\")\n",
    "                    continue\n",
    "                else:\n",
    "                    ts0=line.split(',')[0]\n",
    "                    messages=int(line.split(' ')[2])\n",
    "                    stats[uuid]={\"messages\":int(messages)}\n",
    "                    stats[uuid][\"ts0\"]=ts0\n",
    "                    continue\n",
    "            else:\n",
    "                line=logfile.readline()\n",
    "                if \"PipelineStages\" not in line:\n",
    "                    x=line.split(',')\n",
    "                    print(x)\n",
    "                    print(\"ERREUR : manque le nom de l'étape du pipeline\")\n",
    "                    continue\n",
    "                else:\n",
    "                    stage=line.split(',')[1]\n",
    "                    stage=stage[stage.index('.')+1:]\n",
    "                    if stage not in stages:\n",
    "                        stages.append(stage)\n",
    "                    ts=line.split(',')[0]\n",
    "                    # in principle there is only one stage processed for each uuid so we suppose this is the case\n",
    "                    stats[uuid][stage]=ts\n",
    "            # pipeline processing step by step sequentially for user uuid\n",
    "    return stats\n"
   ]
  },
  {
   "cell_type": "code",
   "execution_count": 3,
   "metadata": {},
   "outputs": [
    {
     "name": "stdout",
     "output_type": "stream",
     "text": [
      "0 days 00:03:00\n"
     ]
    }
   ],
   "source": [
    "x='2021-05-04 01:00:05'\n",
    "x=pd.to_datetime(x)\n",
    "y='2021-05-04 01:03:05'\n",
    "y=pd.to_datetime(y)\n",
    "print(y-x)"
   ]
  },
  {
   "cell_type": "code",
   "execution_count": 13,
   "metadata": {},
   "outputs": [],
   "source": [
    "def empllogs_dict_to_df(logs):\n",
    "    # this functions converts the output of the read_empipelinelogs function to a dataframe\n",
    "    logs_list=[]\n",
    "    for uuid in logs.keys():\n",
    "        d={\"uuid\":uuid}\n",
    "        dx=logs[uuid]\n",
    "        ts0=pd.to_datetime(dx['ts0'])\n",
    "        d[\"day\"]=ts0.date()\n",
    "        for y in dx.keys():\n",
    "            if y==\"ts0\":\n",
    "                continue\n",
    "            if y==\"messages\":\n",
    "                d[\"messages\"]=dx[y]\n",
    "            else:\n",
    "                d[y]=(pd.to_datetime(dx[y])-ts0).total_seconds()\n",
    "                # we make the time difference between one stage and the previous one (stamped at ts0)\n",
    "                ts0=pd.to_datetime(dx[y])\n",
    "        logs_list.append(d)\n",
    "    return pd.DataFrame(logs_list)"
   ]
  },
  {
   "cell_type": "code",
   "execution_count": 88,
   "metadata": {},
   "outputs": [],
   "source": []
  },
  {
   "cell_type": "code",
   "execution_count": 14,
   "metadata": {},
   "outputs": [],
   "source": [
    "logs=empllogs_dict_to_df(read_empipelinelogs())"
   ]
  },
  {
   "cell_type": "code",
   "execution_count": 15,
   "metadata": {},
   "outputs": [
    {
     "data": {
      "text/plain": [
       "(184, 12)"
      ]
     },
     "execution_count": 15,
     "metadata": {},
     "output_type": "execute_result"
    }
   ],
   "source": [
    "logs.shape"
   ]
  },
  {
   "cell_type": "code",
   "execution_count": 16,
   "metadata": {},
   "outputs": [
    {
     "data": {
      "text/plain": [
       "uuid                         b612868f-31d9-4c04-9302-9e65dbf5a9bfe302a5d5-6...\n",
       "messages                                                                361825\n",
       "USER_INPUT_MATCH_INCOMING                                                  329\n",
       "ACCURACY_FILTERING                                                          40\n",
       "TRIP_SEGMENTATION                                                            4\n",
       "SECTION_SEGMENTATION                                                       551\n",
       "JUMP_SMOOTHING                                                              46\n",
       "CLEAN_RESAMPLING                                                            25\n",
       "MODE_INFERENCE                                                             175\n",
       "CREATE_CONFIRMED_OBJECTS                                                   412\n",
       "OUTPUT_GEN                                                                   8\n",
       "dtype: object"
      ]
     },
     "execution_count": 16,
     "metadata": {},
     "output_type": "execute_result"
    }
   ],
   "source": [
    "logs.sum()"
   ]
  },
  {
   "cell_type": "code",
   "execution_count": 99,
   "metadata": {},
   "outputs": [],
   "source": [
    "logs.to_csv('logs.csv')"
   ]
  },
  {
   "cell_type": "code",
   "execution_count": 20,
   "metadata": {},
   "outputs": [
    {
     "data": {
      "text/plain": [
       "16.666666666666668"
      ]
     },
     "execution_count": 20,
     "metadata": {},
     "output_type": "execute_result"
    }
   ],
   "source": [
    "1000/60"
   ]
  },
  {
   "cell_type": "code",
   "execution_count": 25,
   "metadata": {},
   "outputs": [
    {
     "data": {
      "text/plain": [
       "113       195\n",
       "174       237\n",
       "52        244\n",
       "114       467\n",
       "175       616\n",
       "53        652\n",
       "115       677\n",
       "176       701\n",
       "54        890\n",
       "116       890\n",
       "177      1072\n",
       "55       1145\n",
       "117      1219\n",
       "178      1246\n",
       "56       1347\n",
       "118      1550\n",
       "179      1760\n",
       "57       2905\n",
       "119      3229\n",
       "180      4957\n",
       "58       5491\n",
       "120      6460\n",
       "181     10819\n",
       "59      11004\n",
       "121     13854\n",
       "182     14770\n",
       "60      14849\n",
       "122     31157\n",
       "183    112935\n",
       "61     114256\n",
       "Name: messages, dtype: int64"
      ]
     },
     "execution_count": 25,
     "metadata": {},
     "output_type": "execute_result"
    }
   ],
   "source": [
    "logs.messages.sort_values().tail(30)"
   ]
  },
  {
   "cell_type": "code",
   "execution_count": null,
   "metadata": {},
   "outputs": [],
   "source": []
  }
 ],
 "metadata": {
  "kernelspec": {
   "display_name": "Python 3",
   "language": "python",
   "name": "python3"
  },
  "language_info": {
   "codemirror_mode": {
    "name": "ipython",
    "version": 3
   },
   "file_extension": ".py",
   "mimetype": "text/x-python",
   "name": "python",
   "nbconvert_exporter": "python",
   "pygments_lexer": "ipython3",
   "version": "3.8.6"
  }
 },
 "nbformat": 4,
 "nbformat_minor": 4
}
